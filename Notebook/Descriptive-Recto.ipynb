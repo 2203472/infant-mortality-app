{
 "cells": [
  {
   "cell_type": "code",
   "execution_count": 31,
   "id": "7aaccd34",
   "metadata": {},
   "outputs": [],
   "source": [
    "import pandas as pd\n",
    "import matplotlib.pyplot as plt\n",
    "import numpy as np"
   ]
  },
  {
   "cell_type": "code",
   "execution_count": 32,
   "id": "10b0fdfd",
   "metadata": {},
   "outputs": [
    {
     "name": "stderr",
     "output_type": "stream",
     "text": [
      "C:\\Users\\admin\\AppData\\Local\\Temp\\ipykernel_3536\\3816794809.py:1: DtypeWarning: Columns (53,76,112,136,148,150,153,154,155,156,157,158,159,160,161,162,163,164,165,166,167,168,169,170,171,172,173) have mixed types. Specify dtype option on import or set low_memory=False.\n",
      "  data = pd.read_csv(r\"C:\\Users\\admin\\Desktop\\kr-final-cleaned.csv\")\n"
     ]
    }
   ],
   "source": [
    "data = pd.read_csv(r\"C:\\Users\\admin\\Desktop\\kr-final-cleaned.csv\")"
   ]
  },
  {
   "cell_type": "code",
   "execution_count": 33,
   "id": "3b8c51ff",
   "metadata": {},
   "outputs": [],
   "source": [
    "data['B5CLASS'].replace(['Yes', 'No'],[1, 0],inplace=True)"
   ]
  },
  {
   "cell_type": "code",
   "execution_count": 34,
   "id": "c1198a2b",
   "metadata": {},
   "outputs": [
    {
     "data": {
      "text/plain": [
       "1    35832\n",
       "0     1040\n",
       "Name: B5CLASS, dtype: int64"
      ]
     },
     "execution_count": 34,
     "metadata": {},
     "output_type": "execute_result"
    }
   ],
   "source": [
    "data['B5CLASS'].value_counts()"
   ]
  },
  {
   "cell_type": "code",
   "execution_count": 35,
   "id": "1ee89e81",
   "metadata": {},
   "outputs": [],
   "source": [
    "b5_class = data.loc[data['B5CLASS'] == 1]\n",
    "no_b5_class = data.loc[data['B5CLASS'] == 0]"
   ]
  },
  {
   "cell_type": "code",
   "execution_count": 36,
   "id": "47441533",
   "metadata": {},
   "outputs": [
    {
     "data": {
      "text/plain": [
       "2017    10084\n",
       "1998     6877\n",
       "2003     6687\n",
       "2013     6398\n",
       "2008     5786\n",
       "Name: V007, dtype: int64"
      ]
     },
     "execution_count": 36,
     "metadata": {},
     "output_type": "execute_result"
    }
   ],
   "source": [
    "b5_class['V007'].value_counts()"
   ]
  },
  {
   "cell_type": "code",
   "execution_count": 37,
   "id": "7e4929c0",
   "metadata": {},
   "outputs": [
    {
     "data": {
      "text/plain": [
       "1998    288\n",
       "2017    219\n",
       "2003    207\n",
       "2013    167\n",
       "2008    159\n",
       "Name: V007, dtype: int64"
      ]
     },
     "execution_count": 37,
     "metadata": {},
     "output_type": "execute_result"
    }
   ],
   "source": [
    "no_b5_class['V007'].value_counts()"
   ]
  },
  {
   "cell_type": "code",
   "execution_count": 41,
   "id": "95e4a9b5",
   "metadata": {},
   "outputs": [
    {
     "data": {
      "image/png": "[encoded data removed]",
      "text/plain": [
       "<Figure size 432x288 with 1 Axes>"
      ]
     },
     "metadata": {
      "needs_background": "light"
     },
     "output_type": "display_data"
    }
   ],
   "source": [
    "years = [\"1998\", \"2003\", \"2008\", \"2013\", \"2017\"]\n",
    "Y_alive = b5_class['V007'].value_counts()\n",
    "Z_not_alive = no_b5_class['V007'].value_counts()\n",
    "\n",
    "X_axis = np.arange(len(years))\n",
    "plt.bar(years, Y_alive, 0.4, label = 'Alive')\n",
    "plt.bar(years, Z_not_alive, 0.4, label = 'Not Alive')\n",
    "\n",
    "plt.xticks(X_axis, years)\n",
    "plt.xlabel(\"Groups\")\n",
    "plt.ylabel(\"Number of Students\")\n",
    "plt.title(\"Distribution of If Child is Alive or Not Alive per Year\")\n",
    "plt.legend()\n",
    "plt.show()"
   ]
  },
  {
   "cell_type": "code",
   "execution_count": null,
   "id": "2642d2d8",
   "metadata": {},
   "outputs": [],
   "source": []
  }
 ],
 "metadata": {
  "kernelspec": {
   "display_name": "Python 3 (ipykernel)",
   "language": "python",
   "name": "python3"
  },
  "language_info": {
   "codemirror_mode": {
    "name": "ipython",
    "version": 3
   },
   "file_extension": ".py",
   "mimetype": "text/x-python",
   "name": "python",
   "nbconvert_exporter": "python",
   "pygments_lexer": "ipython3",
   "version": "3.9.12"
  }
 },
 "nbformat": 4,
 "nbformat_minor": 5
}
